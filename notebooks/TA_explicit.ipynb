{
 "cells": [
  {
   "metadata": {
    "ExecuteTime": {
     "end_time": "2024-06-29T06:30:18.163137Z",
     "start_time": "2024-06-29T06:30:18.158901Z"
    }
   },
   "cell_type": "code",
   "source": [
    "import numpy as np\n",
    "from src.backend.state_estimation.config.vehicle_params import VehicleParams\n",
    "from src.backend.state_estimation.measurments.measurement_transformation.steering_to_wheel_angle import measure_delta_wheel_angle"
   ],
   "id": "e6d36a14a9c96f86",
   "outputs": [],
   "execution_count": 27
  },
  {
   "metadata": {
    "ExecuteTime": {
     "end_time": "2024-06-29T06:30:18.179879Z",
     "start_time": "2024-06-29T06:30:18.173765Z"
    }
   },
   "cell_type": "code",
   "source": [
    "def moment_coefficients(steering: float):\n",
    "    delta = measure_delta_wheel_angle(steering)\n",
    "    lf = VehicleParams.lf\n",
    "    a2 = VehicleParams.a / 2\n",
    "    b2 = VehicleParams.b / 2\n",
    "    return np.array([\n",
    "        lf * np.sin(delta[0]) + a2 * np.cos(delta[0]), lf * np.sin(delta[1]) - a2 * np.cos(delta[1]), b2, -b2,\n",
    "    ])"
   ],
   "id": "3abd59e558601efd",
   "outputs": [],
   "execution_count": 28
  },
  {
   "metadata": {
    "ExecuteTime": {
     "end_time": "2024-06-29T06:30:18.187088Z",
     "start_time": "2024-06-29T06:30:18.182585Z"
    }
   },
   "cell_type": "code",
   "source": [
    "Tmax = np.array([30, 70, 180, 220], dtype=float)\n",
    "Tmax /= sum(Tmax)\n",
    "Tcmd = 500 \n",
    "dT = -100\n",
    "steering = 0"
   ],
   "id": "b560e91fd89590d6",
   "outputs": [],
   "execution_count": 29
  },
  {
   "metadata": {
    "ExecuteTime": {
     "end_time": "2024-06-29T06:48:10.239080Z",
     "start_time": "2024-06-29T06:48:10.227192Z"
    }
   },
   "cell_type": "code",
   "source": [
    "Mts = moment_coefficients(steering)\n",
    "print(Mts)\n",
    "# ax + by = c\n",
    "# a, b = Mts coefficient\n",
    "# x, y = torque output\n",
    "\n",
    "# t1 = cx / (ax + by)\n",
    "# t2 = cy / (ax + by)\n",
    "# a * t1 + b * t2 = \n",
    "#   (c * ax + c * by) / (ax + by) = c\n",
    "print(Mts, Tmax)\n",
    "denominator = Mts @ Tmax\n",
    "print('denom', denominator)\n",
    "T = dT * Tmax / denominator\n",
    "\n",
    "print(T, T @ Mts)"
   ],
   "id": "e63b5d18cf33af0c",
   "outputs": [
    {
     "name": "stdout",
     "output_type": "stream",
     "text": [
      "[ 0.62051896 -0.62051896  0.62       -0.62      ]\n",
      "[ 0.62051896 -0.62051896  0.62       -0.62      ] [0.06 0.14 0.36 0.44]\n",
      "denom -0.09924151709296927\n",
      "[ 60.4585679  141.06999177 362.75140742 443.36283129] -100.0\n"
     ]
    }
   ],
   "execution_count": 35
  },
  {
   "metadata": {},
   "cell_type": "code",
   "outputs": [],
   "execution_count": null,
   "source": "",
   "id": "e5b591161b39de1"
  }
 ],
 "metadata": {
  "kernelspec": {
   "display_name": "Python 3",
   "language": "python",
   "name": "python3"
  },
  "language_info": {
   "codemirror_mode": {
    "name": "ipython",
    "version": 2
   },
   "file_extension": ".py",
   "mimetype": "text/x-python",
   "name": "python",
   "nbconvert_exporter": "python",
   "pygments_lexer": "ipython2",
   "version": "2.7.6"
  }
 },
 "nbformat": 4,
 "nbformat_minor": 5
}
