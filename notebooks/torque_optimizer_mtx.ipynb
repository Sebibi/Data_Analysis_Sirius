{
 "cells": [
  {
   "cell_type": "code",
   "id": "initial_id",
   "metadata": {
    "collapsed": true,
    "ExecuteTime": {
     "end_time": "2024-06-29T16:24:55.172630Z",
     "start_time": "2024-06-29T16:24:55.166629Z"
    }
   },
   "source": [
    "import numpy as np\n",
    "from src.backend.state_estimation.config.vehicle_params import VehicleParams\n",
    "from src.backend.state_estimation.measurments.measurement_transformation.steering_to_wheel_angle import measure_delta_wheel_angle"
   ],
   "outputs": [],
   "execution_count": 336
  },
  {
   "metadata": {
    "ExecuteTime": {
     "end_time": "2024-06-29T16:24:55.266125Z",
     "start_time": "2024-06-29T16:24:55.257395Z"
    }
   },
   "cell_type": "code",
   "source": [
    "def moment_coefficients(steering: float):\n",
    "    delta = measure_delta_wheel_angle(steering)\n",
    "    lf = VehicleParams.lf\n",
    "    a2 = VehicleParams.a / 2\n",
    "    b2 = VehicleParams.b / 2\n",
    "    return np.array([\n",
    "        lf * np.sin(delta[0]) + a2 * np.cos(delta[0]), lf * np.sin(delta[1]) - a2 * np.cos(delta[1]), b2, -b2,\n",
    "    ])\n",
    "\n",
    "def get_torque_ref(Tcmd, Tmax):\n",
    "    if Tcmd > sum(Tmax):\n",
    "        return Tmax\n",
    "    else:\n",
    "        return Tcmd * Tmax / sum(Tmax)\n",
    "    \n",
    "def get_moment_allocation(Mz, Tmax, Mz_coefficients):\n",
    "    inv_Tmax = 1 / Tmax\n",
    "    A_raw = np.array([\n",
    "        Mz_coefficients, \n",
    "        [inv_Tmax[0], 0, -inv_Tmax[2], 0],\n",
    "        [0, inv_Tmax[1] , 0, -inv_Tmax[3]],\n",
    "        [inv_Tmax[0], inv_Tmax[1], 0, 0],\n",
    "        [0, 0, inv_Tmax[2], inv_Tmax[3]],\n",
    "        [inv_Tmax[0], 0, 0, inv_Tmax[3]],\n",
    "        [0, inv_Tmax[1], inv_Tmax[2], 0],\n",
    "        np.ones(4),\n",
    "    ],dtype=np.float64)\n",
    "    B_raw = np.linalg.pinv(A_raw)\n",
    "    torques = B_raw @ np.array([Mz, 0, 0, 0, 0, 0, 0, 0], dtype=np.float64)   \n",
    "    return torques\n",
    "\n",
    "def get_residual_torque_allocation(Mz, Tmax, Mz_coefficients):\n",
    "    if Mz == 0:\n",
    "        return np.zeros(4)\n",
    "    \n",
    "    inv_Tmax = 1 / Tmax\n",
    "    if Mz_coefficients[0] == 0 and Mz_coefficients[2] == 0:\n",
    "        A_raw = np.array([\n",
    "            Mz_coefficients, \n",
    "            [0, inv_Tmax[1] , 0, -inv_Tmax[3]],\n",
    "        ],dtype=np.float64)\n",
    "    elif Mz_coefficients[1] == 0 and Mz_coefficients[3] == 0:\n",
    "        A_raw = np.array([\n",
    "            Mz_coefficients, \n",
    "            [inv_Tmax[0], 0, -inv_Tmax[2], 0],\n",
    "        ],dtype=np.float64)\n",
    "    else:\n",
    "        raise ValueError(f\"Not right or left residuals: {Mz_coefficients}\")\n",
    "    B_raw = np.linalg.pinv(A_raw)\n",
    "    torques = B_raw @ np.array([Mz, 0], dtype=np.float64)   \n",
    "    return torques"
   ],
   "id": "8a9faa9e9e07c946",
   "outputs": [],
   "execution_count": 337
  },
  {
   "metadata": {
    "ExecuteTime": {
     "end_time": "2024-06-29T16:24:55.275479Z",
     "start_time": "2024-06-29T16:24:55.267635Z"
    }
   },
   "cell_type": "code",
   "source": [
    "Tmax = np.array([100, 100, 200, 200])\n",
    "Tcmd = 400\n",
    "Mz_cmd = -100\n",
    "steering = 0"
   ],
   "id": "1153034d5114ba85",
   "outputs": [],
   "execution_count": 338
  },
  {
   "metadata": {
    "ExecuteTime": {
     "end_time": "2024-06-29T16:24:55.288503Z",
     "start_time": "2024-06-29T16:24:55.276667Z"
    }
   },
   "cell_type": "code",
   "source": [
    "T_refs = get_torque_ref(Tcmd, Tmax)\n",
    "Mz_coefficients = moment_coefficients(steering)\n",
    "current_Mz = Mz_coefficients @ T_refs\n",
    "T_margins = Tmax - T_refs\n",
    "print(\"Torque Maximum\", Tmax)\n",
    "print(\"Torque reference\", T_refs.astype(int))\n",
    "print(\"Current Moment\", int(current_Mz))\n",
    "print(\"Torque Margins\", (T_margins).astype(int))"
   ],
   "id": "7bb66c21b4816af2",
   "outputs": [
    {
     "name": "stdout",
     "output_type": "stream",
     "text": [
      "Torque Maximum [100 100 200 200]\n",
      "Torque reference [ 66  66 133 133]\n",
      "Current Moment 0\n",
      "Torque Margins [33 33 66 66]\n"
     ]
    }
   ],
   "execution_count": 339
  },
  {
   "metadata": {
    "ExecuteTime": {
     "end_time": "2024-06-29T16:24:55.294485Z",
     "start_time": "2024-06-29T16:24:55.288503Z"
    }
   },
   "cell_type": "code",
   "source": [
    "Mz_error = Mz_cmd - current_Mz\n",
    "print(\"Moment error\", int(Mz_error))"
   ],
   "id": "85c0470bf50b8651",
   "outputs": [
    {
     "name": "stdout",
     "output_type": "stream",
     "text": [
      "Moment error -100\n"
     ]
    }
   ],
   "execution_count": 340
  },
  {
   "metadata": {
    "ExecuteTime": {
     "end_time": "2024-06-29T16:24:55.299279Z",
     "start_time": "2024-06-29T16:24:55.294485Z"
    }
   },
   "cell_type": "code",
   "source": [
    "Mz_allocation = get_moment_allocation(Mz_error, Tmax, Mz_coefficients)\n",
    "print(\"Moment allocation\", Mz_allocation.astype(int))"
   ],
   "id": "485464d878a0cd90",
   "outputs": [
    {
     "name": "stdout",
     "output_type": "stream",
     "text": [
      "Moment allocation [-26  26 -53  53]\n"
     ]
    }
   ],
   "execution_count": 341
  },
  {
   "metadata": {
    "ExecuteTime": {
     "end_time": "2024-06-29T16:24:55.305495Z",
     "start_time": "2024-06-29T16:24:55.299279Z"
    }
   },
   "cell_type": "code",
   "source": [
    "T_residuals = -np.minimum(T_margins - Mz_allocation, 0)\n",
    "Mz_residuals = Mz_coefficients @ T_residuals\n",
    "print(\"Residuals\", T_residuals.astype(int), int(Mz_residuals))"
   ],
   "id": "f9a3222b433d667a",
   "outputs": [
    {
     "name": "stdout",
     "output_type": "stream",
     "text": [
      "Residuals [0 0 0 0] 0\n"
     ]
    }
   ],
   "execution_count": 342
  },
  {
   "metadata": {
    "ExecuteTime": {
     "end_time": "2024-06-29T16:24:55.310995Z",
     "start_time": "2024-06-29T16:24:55.305495Z"
    }
   },
   "cell_type": "code",
   "source": [
    "Mz_residual_coefficients = (T_residuals == 0).astype(int) * Mz_coefficients\n",
    "print(\"Mz_residual_coefficients\", Mz_residual_coefficients)\n",
    "Mz_residual_allocation = get_moment_allocation(Mz_residuals, Tmax, Mz_residual_coefficients)\n",
    "print(\"Mz_residual_allocation\", Mz_residual_allocation.astype(int))\n",
    "Mz_residual_allocation *= (T_residuals == 0).astype(int)\n",
    "print(\"Mz_residual_allocation\", Mz_residual_allocation.astype(int))"
   ],
   "id": "1bc6acf207ae773a",
   "outputs": [
    {
     "name": "stdout",
     "output_type": "stream",
     "text": [
      "Mz_residual_coefficients [ 0.62051896 -0.62051896  0.62       -0.62      ]\n",
      "Mz_residual_allocation [0 0 0 0]\n",
      "Mz_residual_allocation [0 0 0 0]\n"
     ]
    }
   ],
   "execution_count": 343
  },
  {
   "metadata": {
    "ExecuteTime": {
     "end_time": "2024-06-29T16:24:55.316487Z",
     "start_time": "2024-06-29T16:24:55.310995Z"
    }
   },
   "cell_type": "code",
   "source": [
    "T_final = T_refs + Mz_allocation + Mz_residual_allocation\n",
    "T_final = np.minimum(T_final, Tmax)\n",
    "print(\"Final Torque allocation\", (T_final + 0.5).astype(int))\n",
    "print(\"Total T: \", Tcmd, \"-->\", int(sum(T_final) + 0.5))\n",
    "print(\"Total Mz:\", Mz_cmd, \"-->\", int(T_final @ Mz_coefficients + 0.5))\n",
    "print(\"Grip Allocation\", np.round(T_final / Tmax, 2))"
   ],
   "id": "64934959ee1cb43",
   "outputs": [
    {
     "name": "stdout",
     "output_type": "stream",
     "text": [
      "Final Torque allocation [ 40  94  80 187]\n",
      "Total T:  400 --> 400\n",
      "Total Mz: -100 --> -99\n",
      "Grip Allocation [0.4  0.94 0.4  0.94]\n"
     ]
    }
   ],
   "execution_count": 344
  },
  {
   "metadata": {},
   "cell_type": "markdown",
   "source": "",
   "id": "ad8e49dbe44b5213"
  }
 ],
 "metadata": {
  "kernelspec": {
   "display_name": "Python 3",
   "language": "python",
   "name": "python3"
  },
  "language_info": {
   "codemirror_mode": {
    "name": "ipython",
    "version": 2
   },
   "file_extension": ".py",
   "mimetype": "text/x-python",
   "name": "python",
   "nbconvert_exporter": "python",
   "pygments_lexer": "ipython2",
   "version": "2.7.6"
  }
 },
 "nbformat": 4,
 "nbformat_minor": 5
}
