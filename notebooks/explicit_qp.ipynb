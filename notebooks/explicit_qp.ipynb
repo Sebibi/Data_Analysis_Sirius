{
 "cells": [
  {
   "cell_type": "code",
   "id": "714fa66986925a3e",
   "metadata": {
    "collapsed": true,
    "ExecuteTime": {
     "end_time": "2024-06-23T14:29:33.701524Z",
     "start_time": "2024-06-23T14:29:33.695472Z"
    }
   },
   "source": [
    "import numpy as np\n",
    "import cvxopt"
   ],
   "outputs": [],
   "execution_count": 42
  },
  {
   "metadata": {
    "ExecuteTime": {
     "end_time": "2024-06-23T14:29:33.708383Z",
     "start_time": "2024-06-23T14:29:33.701524Z"
    }
   },
   "cell_type": "code",
   "source": [
    "Tcmd = 100\n",
    "Tmax = [50, 50, 200, 200]\n",
    "Tmin = [-t for t in Tmax]\n",
    "L = [Tmax[0] / Tmax[2], Tmax[1] / Tmax[3], Tmax[0] / Tmax[1], Tmax[2] / Tmax[3]]\n",
    "dT = 10"
   ],
   "id": "cd9b9d065dcef8c8",
   "outputs": [],
   "execution_count": 43
  },
  {
   "metadata": {
    "ExecuteTime": {
     "end_time": "2024-06-23T14:29:33.714479Z",
     "start_time": "2024-06-23T14:29:33.708927Z"
    }
   },
   "cell_type": "code",
   "source": [
    "\n",
    "# Define the quadratic cost function Q\n",
    "W = np.diag([1e-3, 1] + [1e-2 for _ in range(4)])\n",
    "\n",
    "# Define the inequality constraints matrix A and vector b\n",
    "A = np.array([\n",
    "    [1, 0, 0, 0],\n",
    "    [0, 1, 0, 0],\n",
    "    [0, 0, 1, 0],\n",
    "    [0, 0, 0, 1],\n",
    "])\n",
    "b = np.array(Tmax)\n",
    "\n",
    "# Define the quadratic and linear terms of the cost function\n",
    "C = np.array([\n",
    "    [1, 1, 1, 1],\n",
    "    [1, -1, 1, -1],\n",
    "    [1, 0, -L[0], 0],\n",
    "    [0, 1, 0, -L[1]],\n",
    "    [1, -L[2], 0, 0],\n",
    "    [0, 0, 1, -L[3]]\n",
    "])\n",
    "\n",
    "ref = np.array([Tcmd, dT, 0, 0, 0, 0])\n",
    "\n",
    "Q = C.T @ W @ C\n",
    "c = -2 * ref @ W @ C\n",
    "\n",
    "\n",
    "# Number of variables\n",
    "n = Q.shape[0]"
   ],
   "id": "fee1303713f7f4bd",
   "outputs": [],
   "execution_count": 44
  },
  {
   "metadata": {
    "ExecuteTime": {
     "end_time": "2024-06-23T14:29:33.720593Z",
     "start_time": "2024-06-23T14:29:33.715483Z"
    }
   },
   "cell_type": "code",
   "source": [
    "# Convert numpy arrays to cvxopt matrices\n",
    "Q_cvx = cvxopt.matrix(Q)\n",
    "c_cvx = cvxopt.matrix(c)\n",
    "A_cvx = cvxopt.matrix(A.astype(float))\n",
    "b_cvx = cvxopt.matrix(b.astype(float))\n",
    "\n",
    "# Solve the quadratic program\n",
    "solution = cvxopt.solvers.qp(P=Q_cvx, q=c_cvx, G=A_cvx, h=b_cvx)\n",
    "\n",
    "# Extract the optimal values\n",
    "x_opt = np.array(solution['x'])\n",
    "\n",
    "print(\"Optimal solution:\", x_opt.flatten())"
   ],
   "id": "c3a47e85fa700e3f",
   "outputs": [
    {
     "name": "stdout",
     "output_type": "stream",
     "text": [
      "     pcost       dcost       gap    pres   dres\n",
      " 0: -1.6634e+02 -1.0888e+02  4e+01  3e-02  3e-01\n",
      " 1: -1.8040e+02 -1.8269e+02  2e+00  2e-03  2e-02\n",
      " 2: -1.8956e+02 -1.9113e+02  2e+00  2e-03  1e-02\n",
      " 3: -2.1655e+02 -2.6232e+02  5e+01  5e-04  4e-03\n",
      " 4: -2.1887e+02 -2.2120e+02  2e+00  1e-16  7e-16\n",
      " 5: -2.1890e+02 -2.1893e+02  3e-02  6e-17  3e-16\n",
      " 6: -2.1890e+02 -2.1891e+02  3e-04  2e-16  6e-16\n",
      " 7: -2.1890e+02 -2.1890e+02  3e-06  5e-17  8e-16\n",
      "Optimal solution found.\n",
      "Optimal solution: [24.13453998 15.86545928 85.81070082 74.18929096]\n"
     ]
    }
   ],
   "execution_count": 45
  },
  {
   "metadata": {
    "ExecuteTime": {
     "end_time": "2024-06-23T14:29:33.728572Z",
     "start_time": "2024-06-23T14:29:33.720593Z"
    }
   },
   "cell_type": "code",
   "source": [
    "# Formulate the Lagrangian matrices\n",
    "n = Q.shape[0]\n",
    "m = A.shape[0]\n",
    "\n",
    "# Construct the augmented matrix\n",
    "LHS = np.block([\n",
    "    [Q, A.T],\n",
    "    [A, np.zeros((m, m))]\n",
    "])\n",
    "\n",
    "# Construct the augmented vector\n",
    "RHS = np.concatenate([-c, b])\n",
    "\n",
    "# Check the rank of the augmented matrix\n",
    "if np.linalg.matrix_rank(LHS) < LHS.shape[0]:\n",
    "    print(\"Augmented matrix is rank-deficient. Consider checking constraints.\")\n",
    "\n",
    "# Solve the linear system using numpy\n",
    "try:\n",
    "    sol = np.linalg.solve(LHS, RHS)\n",
    "    x_opt = sol[:n]  # optimal solution for x\n",
    "    lambda_opt = sol[n:]  # optimal solution for lambda\n",
    "    print(\"Optimal solution x:\", x_opt)\n",
    "    print(\"Optimal solution lambda:\", lambda_opt)\n",
    "except np.linalg.LinAlgError:\n",
    "    print(\"Singular matrix error: Unable to solve the system.\")"
   ],
   "id": "6614b801878374b8",
   "outputs": [
    {
     "name": "stdout",
     "output_type": "stream",
     "text": [
      "Optimal solution x: [ 50.  50. 200. 200.]\n",
      "Optimal solution lambda: [ 19.7 -20.3  19.7 -20.3]\n"
     ]
    }
   ],
   "execution_count": 46
  },
  {
   "metadata": {
    "ExecuteTime": {
     "end_time": "2024-06-23T14:29:33.732780Z",
     "start_time": "2024-06-23T14:29:33.728572Z"
    }
   },
   "cell_type": "code",
   "source": [
    "Q_inv = np.linalg.inv(Q)\n",
    "\n",
    "def compute_x(lambda_):\n",
    "    return -Q_inv @ (c + A.T @ lambda_)\n",
    "\n",
    "# Second part: solve the inequality constraints\n",
    "# A x <= b  => A (-Q_inv (c + A^T lambda)) <= b\n",
    "# A Q_inv A^T lambda <= b + A Q_inv c\n",
    "H = A @ Q_inv @ A.T\n",
    "g = b + A @ Q_inv @ c\n",
    "\n",
    "# Solve H lambda = g\n",
    "lambda_ = np.linalg.solve(H, g)\n",
    "\n",
    "# Compute the optimal x\n",
    "x = compute_x(lambda_)"
   ],
   "id": "3005cce4a27fb16e",
   "outputs": [],
   "execution_count": 47
  },
  {
   "metadata": {
    "ExecuteTime": {
     "end_time": "2024-06-23T14:29:33.741228Z",
     "start_time": "2024-06-23T14:29:33.732780Z"
    }
   },
   "cell_type": "code",
   "source": [
    "# Check primal feasibility: A x <= b\n",
    "primal_feasibility = A @ x - b <= 1e-5  # Using a small tolerance for numerical precision\n",
    "\n",
    "# Check complementary slackness: lambda_i (A x - b)_i = 0\n",
    "complementary_slackness = np.allclose(lambda_ * (A @ x - b), 0, atol=1e-5)\n",
    "\n",
    "# Print the results\n",
    "print(\"Optimal x:\")\n",
    "print(x, sum(x), x @ np.array([1, -1, 1, -1]))\n",
    "print(\"\\nLagrange multipliers (lambda):\")\n",
    "print(lambda_)\n",
    "print(\"\\nPrimal feasibility (A x <= b):\")\n",
    "print(primal_feasibility)\n",
    "print(A @ x, b)\n",
    "print(\"\\nComplementary slackness:\")\n",
    "print(complementary_slackness)"
   ],
   "id": "initial_id",
   "outputs": [
    {
     "name": "stdout",
     "output_type": "stream",
     "text": [
      "Optimal x:\n",
      "[ -1.73091966 -18.26908034 -28.37858979 -51.62141021] -100.00000000001796 39.78098111521126\n",
      "\n",
      "Lagrange multipliers (lambda):\n",
      "[-19.7  20.3 -19.7  20.3]\n",
      "\n",
      "Primal feasibility (A x <= b):\n",
      "[ True  True  True  True]\n",
      "[ -1.73091966 -18.26908034 -28.37858979 -51.62141021] [ 50  50 200 200]\n",
      "\n",
      "Complementary slackness:\n",
      "False\n"
     ]
    }
   ],
   "execution_count": 48
  },
  {
   "metadata": {
    "ExecuteTime": {
     "end_time": "2024-06-23T14:29:33.744994Z",
     "start_time": "2024-06-23T14:29:33.741228Z"
    }
   },
   "cell_type": "code",
   "source": "",
   "id": "df618568373edf8",
   "outputs": [],
   "execution_count": 48
  }
 ],
 "metadata": {
  "kernelspec": {
   "display_name": "Python 3",
   "language": "python",
   "name": "python3"
  },
  "language_info": {
   "codemirror_mode": {
    "name": "ipython",
    "version": 2
   },
   "file_extension": ".py",
   "mimetype": "text/x-python",
   "name": "python",
   "nbconvert_exporter": "python",
   "pygments_lexer": "ipython2",
   "version": "2.7.6"
  }
 },
 "nbformat": 4,
 "nbformat_minor": 5
}
